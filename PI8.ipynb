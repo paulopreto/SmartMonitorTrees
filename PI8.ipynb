{
  "nbformat": 4,
  "nbformat_minor": 5,
  "metadata": {
    "kernelspec": {
      "name": "python3",
      "display_name": "Python 3"
    },
    "colab": {
      "name": "PI8.ipynb",
      "provenance": [],
      "collapsed_sections": []
    },
    "language_info": {
      "name": "python"
    },
    "accelerator": "GPU"
  },
  "cells": [
    {
      "cell_type": "markdown",
      "metadata": {
        "id": "2ae1234e"
      },
      "source": [
        "# Agenda do curso:\n",
        "   - Classificação de imagens - Redes Neurais Convolucionais (CNNs)\n",
        "\n",
        "   - Geração de  imagens - Redes Adversárias Generativas (GANs)\n",
        "\n",
        "   - Segmentação de  objetos em imagens - U-net"
      ],
      "id": "2ae1234e"
    },
    {
      "cell_type": "markdown",
      "metadata": {
        "id": "01811e27"
      },
      "source": [
        "# Importações de bibliotecas"
      ],
      "id": "01811e27"
    },
    {
      "cell_type": "code",
      "metadata": {
        "id": "ab9733b7"
      },
      "source": [
        "import os\n",
        "\n",
        "import PIL.Image\n",
        "import numpy as np\n",
        "\n",
        "from tensorflow.keras import backend as K\n",
        "from tensorflow.keras.utils import to_categorical\n",
        "from tensorflow.keras import layers\n",
        "from tensorflow.keras import models\n",
        "from tensorflow.keras import optimizers\n",
        "from tensorflow.keras.utils import plot_model\n",
        "from tensorflow.keras import utils \n",
        "\n",
        "import matplotlib.pyplot as plt\n",
        "\n",
        "from sklearn.utils import shuffle\n",
        "from sklearn.metrics import confusion_matrix"
      ],
      "id": "ab9733b7",
      "execution_count": null,
      "outputs": []
    },
    {
      "cell_type": "code",
      "metadata": {
        "id": "ea7d4579"
      },
      "source": [
        "import tensorflow as tf\n",
        "gpu_devices = tf.config.experimental.list_physical_devices('GPU')\n",
        "#print(gpu_devices)\n",
        "tf.config.experimental.set_memory_growth(gpu_devices[0], True)"
      ],
      "id": "ea7d4579",
      "execution_count": null,
      "outputs": []
    },
    {
      "cell_type": "markdown",
      "metadata": {
        "id": "0b197aa3"
      },
      "source": [
        "# Variáveis globais"
      ],
      "id": "0b197aa3"
    },
    {
      "cell_type": "code",
      "metadata": {
        "id": "372194c3"
      },
      "source": [
        "normaisImages = []\n",
        "comRiscoImages = []\n",
        "\n",
        "normaisLabels = []\n",
        "comRiscoLabels = []\n",
        "\n",
        "trainLen = 0\n",
        "testLen = 0\n",
        "\n",
        "#base de treino, teste balanceado e desbalanceado\n",
        "trainImages = []\n",
        "trainLabels = []\n",
        "testImagesB = []\n",
        "testLabelsB = []\n",
        "\n",
        "\n",
        "#labels, 0 -> normal, 1 -> comRisco\n",
        "array_0 = 0\n",
        "array_1 = 1\n",
        "\n",
        "num_imgs = 48\n",
        "img_rows = 600\n",
        "img_cols = 600\n",
        "channels = 3\n",
        "num_classes = 2"
      ],
      "id": "372194c3",
      "execution_count": null,
      "outputs": []
    },
    {
      "cell_type": "code",
      "metadata": {
        "id": "f6e2850f"
      },
      "source": [
        "# load image from file\n",
        "def select_image(filename):\n",
        "    \n",
        "    image = PIL.Image.open(filename)\n",
        "    \n",
        "    image = image.convert('RGB') #image.convert('L') #image.convert('RGB') \n",
        "    image = image.resize((img_rows, img_cols))\n",
        "    \n",
        "    #print(image.shape)\n",
        "    \n",
        "    img = np.array(image) \n",
        "    \n",
        "    #print(img.shape)#(300, 300)\n",
        "    img = img.reshape((1,) + img.shape)\n",
        "    #print(img.shape)#(1, 300, 300)\n",
        "    \n",
        "    return img"
      ],
      "id": "f6e2850f",
      "execution_count": null,
      "outputs": []
    },
    {
      "cell_type": "code",
      "metadata": {
        "id": "70b93e80"
      },
      "source": [
        "def scanning(PATH):\n",
        "    contFiles = 0\n",
        "    \n",
        "    contents = os.listdir(PATH)\n",
        "    for item in contents:\n",
        "        newdir = PATH + \"/\" + item\n",
        "        #print (newdir)\n",
        "        if os.path.isdir(newdir):\n",
        "            scanning(newdir)\n",
        "        else:\n",
        "            if item.endswith(\".png\") or item.endswith(\".jpg\") or item.endswith(\".jpeg\"):\n",
        "                contFiles = contFiles + 1\n",
        "                #print(\"cont: \", contFiles)\n",
        "                if(\"Normal\" in newdir and contFiles <= num_imgs):\n",
        "                    normaisImages.append(select_image(newdir))\n",
        "                    normaisLabels.append(array_0)\n",
        "                elif(\"comRisco\" in newdir and contFiles <= num_imgs):\n",
        "                    comRiscoImages.append(select_image(newdir))\n",
        "                    comRiscoLabels.append(array_1)\n",
        "                    \n",
        "    #print(\"cont: \", contFiles)"
      ],
      "id": "70b93e80",
      "execution_count": null,
      "outputs": []
    },
    {
      "cell_type": "markdown",
      "metadata": {
        "id": "e406bc42"
      },
      "source": [
        "# Carregando as duas classes"
      ],
      "id": "e406bc42"
    },
    {
      "cell_type": "code",
      "metadata": {
        "colab": {
          "base_uri": "https://localhost:8080/"
        },
        "id": "ODPM_A1v-F58",
        "outputId": "2ba634b7-a4a5-40ef-dd71-05b5e1a10281"
      },
      "source": [
        "from google.colab import drive\n",
        "drive.mount('/content/drive')"
      ],
      "id": "ODPM_A1v-F58",
      "execution_count": null,
      "outputs": [
        {
          "output_type": "stream",
          "text": [
            "Mounted at /content/drive\n"
          ],
          "name": "stdout"
        }
      ]
    },
    {
      "cell_type": "code",
      "metadata": {
        "id": "d93e4b56"
      },
      "source": [
        "pathBase = \"drive/MyDrive/Prj_Integrador_Univesp/PI_sem1_2022/SemRisco\"\n",
        "scanning(pathBase)\n",
        "\n",
        "pathBase = \"drive/MyDrive/Prj_Integrador_Univesp/PI_sem1_2022/ComRisco\"\n",
        "scanning(pathBase)"
      ],
      "id": "d93e4b56",
      "execution_count": null,
      "outputs": []
    },
    {
      "cell_type": "markdown",
      "metadata": {
        "id": "0650911d"
      },
      "source": [
        "# Pré-processamento"
      ],
      "id": "0650911d"
    },
    {
      "cell_type": "code",
      "metadata": {
        "id": "cbaf22ae",
        "colab": {
          "base_uri": "https://localhost:8080/"
        },
        "outputId": "270e7985-a74e-4ba5-a3b5-3e1218ec26f3"
      },
      "source": [
        "normaisImages = np.vstack(normaisImages)\n",
        "normaisLabels = np.hstack(normaisLabels)\n",
        "print(normaisImages.shape)\n",
        "print(normaisLabels.shape)"
      ],
      "id": "cbaf22ae",
      "execution_count": null,
      "outputs": [
        {
          "output_type": "stream",
          "text": [
            "(180000, 600, 3)\n",
            "(300,)\n"
          ],
          "name": "stdout"
        }
      ]
    },
    {
      "cell_type": "code",
      "metadata": {
        "id": "Xlj8jyE1AxYp"
      },
      "source": [
        "normaisImages = np.vstack(normaisImages)"
      ],
      "id": "Xlj8jyE1AxYp",
      "execution_count": null,
      "outputs": []
    },
    {
      "cell_type": "code",
      "metadata": {
        "id": "73fd262d",
        "outputId": "5ad034b2-f03f-479e-9234-dd08486986ba"
      },
      "source": [
        "comRiscoImages = np.vstack(comRiscoImages)\n",
        "comRiscoLabels = np.hstack(comRiscoLabels)\n",
        "print(comRiscoImages.shape)\n",
        "print(comRiscoLabels.shape)"
      ],
      "id": "73fd262d",
      "execution_count": null,
      "outputs": [
        {
          "output_type": "stream",
          "text": [
            "(300, 600, 600, 3)\n",
            "(300,)\n"
          ],
          "name": "stdout"
        }
      ]
    },
    {
      "cell_type": "code",
      "metadata": {
        "id": "c1ebffed",
        "outputId": "18d5b983-88cc-4122-a48d-f8d56cd2dc35"
      },
      "source": [
        "normaisLen = len(normaisImages)\n",
        "print(normaisLen)\n",
        "comRiscoLen = len(comRiscoImages)\n",
        "print(comRiscoLen)\n",
        "\n",
        "percentagemTrain = 0.80\n",
        "\n",
        "\n",
        "if (normaisLen <= comRiscoLen):\n",
        "    trainLen = percentagemTrain * normaisLen\n",
        "    testLenB = normaisLen\n",
        "    \n",
        "elif (comRiscoLen < normaisLen):\n",
        "    trainLen = percentagemTrain * comRiscoLen\n",
        "    testLenB = comRiscoLen\n",
        "    \n",
        "print(int(trainLen))\n",
        "print(int(testLenB))"
      ],
      "id": "c1ebffed",
      "execution_count": null,
      "outputs": [
        {
          "output_type": "stream",
          "text": [
            "300\n",
            "300\n",
            "240\n",
            "300\n"
          ],
          "name": "stdout"
        }
      ]
    },
    {
      "cell_type": "code",
      "metadata": {
        "id": "1c68b6a4"
      },
      "source": [
        "for i in range(int(trainLen)):\n",
        "    trainImages.append(normaisImages[i])\n",
        "    trainLabels.append(normaisLabels[i])\n",
        "    trainImages.append(comRiscoImages[i])\n",
        "    trainLabels.append(comRiscoLabels[i])"
      ],
      "id": "1c68b6a4",
      "execution_count": null,
      "outputs": []
    },
    {
      "cell_type": "code",
      "metadata": {
        "id": "76f2404d",
        "outputId": "8803841e-0d26-4373-cd19-323a7d4811ff"
      },
      "source": [
        "trainImages = np.array(trainImages) \n",
        "trainImages = trainImages.astype('float32')\n",
        "trainImages = trainImages / 255.0\n",
        "print(trainImages.shape)\n",
        "\n",
        "trainLabels = np.array(trainLabels)\n",
        "print(trainLabels.shape)"
      ],
      "id": "76f2404d",
      "execution_count": null,
      "outputs": [
        {
          "output_type": "stream",
          "text": [
            "(480, 600, 600, 3)\n",
            "(480,)\n"
          ],
          "name": "stdout"
        }
      ]
    },
    {
      "cell_type": "markdown",
      "metadata": {
        "id": "b7c66423"
      },
      "source": [
        "# Base de teste balanceada"
      ],
      "id": "b7c66423"
    },
    {
      "cell_type": "code",
      "metadata": {
        "id": "e522f846",
        "outputId": "af906e93-f416-4a69-e1ea-ad8edcc7b46d"
      },
      "source": [
        "for i in range(int(trainLen), int(testLenB)):\n",
        "    testImagesB.append(normaisImages[i])\n",
        "    testLabelsB.append(normaisLabels[i])\n",
        "    testImagesB.append(comRiscoImages[i])\n",
        "    testLabelsB.append(comRiscoLabels[i])\n",
        "\n",
        "print(testLenB)\n",
        "print(len(testImagesB))\n",
        "print(len(testLabelsB))"
      ],
      "id": "e522f846",
      "execution_count": null,
      "outputs": [
        {
          "output_type": "stream",
          "text": [
            "300\n",
            "120\n",
            "120\n"
          ],
          "name": "stdout"
        }
      ]
    },
    {
      "cell_type": "code",
      "metadata": {
        "id": "d9d6fa57",
        "outputId": "1ef1b134-de10-4f43-8313-93f63b24f5bf"
      },
      "source": [
        "testImagesB = np.array(testImagesB) \n",
        "testImagesB = testImagesB.astype('float32')\n",
        "testImagesB = testImagesB / 255.0\n",
        "print(testImagesB.shape)\n",
        "\n",
        "testLabelsB = np.array(testLabelsB)\n",
        "print(testLabelsB.shape)"
      ],
      "id": "d9d6fa57",
      "execution_count": null,
      "outputs": [
        {
          "output_type": "stream",
          "text": [
            "(120, 600, 600, 3)\n",
            "(120,)\n"
          ],
          "name": "stdout"
        }
      ]
    },
    {
      "cell_type": "code",
      "metadata": {
        "id": "25a5b257",
        "outputId": "9f966669-004d-464b-c866-b40bbc38eee0"
      },
      "source": [
        "if K.image_data_format() == 'channels_first':\n",
        "    trainImages = trainImages.reshape(trainImages.shape[0], channels, img_rows, img_cols)\n",
        "    input_shape = (channels, img_rows, img_cols)\n",
        "else:\n",
        "    trainImages = trainImages.reshape(trainImages.shape[0], img_rows, img_cols, channels)\n",
        "    input_shape = (img_rows, img_cols, channels)\n",
        "    \n",
        "print(trainImages.shape)\n",
        "print(input_shape)"
      ],
      "id": "25a5b257",
      "execution_count": null,
      "outputs": [
        {
          "output_type": "stream",
          "text": [
            "(480, 600, 600, 3)\n",
            "(600, 600, 3)\n"
          ],
          "name": "stdout"
        }
      ]
    },
    {
      "cell_type": "code",
      "metadata": {
        "id": "6d1a485a"
      },
      "source": [
        "trainImages = shuffle(trainImages, random_state=19)\n",
        "trainLabels = shuffle(trainLabels, random_state=19)\n",
        "\n",
        "testImagesB = shuffle(testImagesB, random_state=19)\n",
        "testLabelsB = shuffle(testLabelsB, random_state=19)"
      ],
      "id": "6d1a485a",
      "execution_count": null,
      "outputs": []
    },
    {
      "cell_type": "code",
      "metadata": {
        "id": "f2508898",
        "outputId": "1a62921f-f6f7-4039-d470-2e94b7f52280"
      },
      "source": [
        "trainLabels = utils.to_categorical(trainLabels, num_classes)\n",
        "testLabelsB = utils.to_categorical(testLabelsB, num_classes)\n",
        "\n",
        "print(trainLabels.shape)\n",
        "print(testLabelsB.shape)"
      ],
      "id": "f2508898",
      "execution_count": null,
      "outputs": [
        {
          "output_type": "stream",
          "text": [
            "(480, 2)\n",
            "(120, 2)\n"
          ],
          "name": "stdout"
        }
      ]
    },
    {
      "cell_type": "markdown",
      "metadata": {
        "id": "f8c1989f"
      },
      "source": [
        "# Definindo hiperparâmetros"
      ],
      "id": "f8c1989f"
    },
    {
      "cell_type": "code",
      "metadata": {
        "id": "3e5a2df1"
      },
      "source": [
        "batch_size_c   = 36\n",
        "epoch        = 50"
      ],
      "id": "3e5a2df1",
      "execution_count": null,
      "outputs": []
    },
    {
      "cell_type": "markdown",
      "metadata": {
        "id": "f44efef3"
      },
      "source": [
        "# Criando o modelo da CNN"
      ],
      "id": "f44efef3"
    },
    {
      "cell_type": "code",
      "metadata": {
        "id": "0cf45605",
        "outputId": "ebbadbad-f0da-43a8-c168-d1d1f3757865"
      },
      "source": [
        "model = models.Sequential()\n",
        "\n",
        "model.add(layers.Convolution2D(32, (3, 3), activation='relu', input_shape=input_shape))\n",
        "model.add(layers.MaxPooling2D((2, 2)))\n",
        "\n",
        "model.add(layers.Convolution2D(64, (3, 3), activation='relu'))\n",
        "model.add(layers.MaxPooling2D((2, 2)))\n",
        "\n",
        "#model.add(layers.Convolution2D(128, (3, 3), activation='relu'))\n",
        "#model.add(layers.MaxPooling2D((2, 2)))\n",
        "\n",
        "#model.add(layers.Convolution2D(128, (3, 3), activation='relu'))\n",
        "#model.add(layers.MaxPooling2D((2, 2)))\n",
        "\n",
        "#model.add(layers.Convolution2D(128, (3, 3), activation='relu'))\n",
        "#model.add(layers.MaxPooling2D((2, 2)))\n",
        "\n",
        "#model.add(layers.Convolution2D(128, (3, 3), activation='relu'))\n",
        "#model.add(layers.MaxPooling2D((2, 2)))\n",
        "\n",
        "model.add(layers.Flatten())\n",
        "\n",
        "#model.add(layers.Dense(512, activation='relu'))\n",
        "\n",
        "model.add(layers.Dense(256, activation='relu'))\n",
        "\n",
        "model.add(layers.Dense(num_classes, activation='sigmoid'))\n",
        "\n",
        "model.summary()"
      ],
      "id": "0cf45605",
      "execution_count": null,
      "outputs": [
        {
          "output_type": "stream",
          "text": [
            "Model: \"sequential\"\n",
            "_________________________________________________________________\n",
            "Layer (type)                 Output Shape              Param #   \n",
            "=================================================================\n",
            "conv2d (Conv2D)              (None, 598, 598, 32)      896       \n",
            "_________________________________________________________________\n",
            "max_pooling2d (MaxPooling2D) (None, 299, 299, 32)      0         \n",
            "_________________________________________________________________\n",
            "conv2d_1 (Conv2D)            (None, 297, 297, 64)      18496     \n",
            "_________________________________________________________________\n",
            "max_pooling2d_1 (MaxPooling2 (None, 148, 148, 64)      0         \n",
            "_________________________________________________________________\n",
            "flatten (Flatten)            (None, 1401856)           0         \n",
            "_________________________________________________________________\n",
            "dense (Dense)                (None, 256)               358875392 \n",
            "_________________________________________________________________\n",
            "dense_1 (Dense)              (None, 2)                 514       \n",
            "=================================================================\n",
            "Total params: 358,895,298\n",
            "Trainable params: 358,895,298\n",
            "Non-trainable params: 0\n",
            "_________________________________________________________________\n"
          ],
          "name": "stdout"
        }
      ]
    },
    {
      "cell_type": "code",
      "metadata": {
        "id": "f5a4f83b"
      },
      "source": [
        "model.compile(loss='binary_crossentropy',\n",
        "                  optimizer='adam',\n",
        "                  metrics=['accuracy'])\n"
      ],
      "id": "f5a4f83b",
      "execution_count": null,
      "outputs": []
    },
    {
      "cell_type": "markdown",
      "metadata": {
        "id": "426eddb3"
      },
      "source": [
        "https://keras.io/api/optimizers/\n",
        "\n",
        "https://keras.io/api/losses/\n",
        "\n",
        "https://keras.io/api/metrics/"
      ],
      "id": "426eddb3"
    },
    {
      "cell_type": "code",
      "metadata": {
        "id": "fd1d82d0",
        "outputId": "8c270f12-9f8a-4c6d-f536-fa8a436e3d00"
      },
      "source": [
        "history = model.fit(trainImages, trainLabels,\n",
        "                    batch_size = batch_size_c, \n",
        "                    epochs=epoch,\n",
        "                    validation_split=0.1,\n",
        "                    verbose = 1)"
      ],
      "id": "fd1d82d0",
      "execution_count": null,
      "outputs": [
        {
          "output_type": "stream",
          "text": [
            "Epoch 1/50\n",
            " 2/12 [====>.........................] - ETA: 1s - loss: 11.3398 - accuracy: 0.4306WARNING:tensorflow:Callbacks method `on_train_batch_end` is slow compared to the batch time (batch time: 0.0680s vs `on_train_batch_end` time: 0.3254s). Check your callbacks.\n",
            "12/12 [==============================] - 5s 403ms/step - loss: 4.5835 - accuracy: 0.7060 - val_loss: 0.1535 - val_accuracy: 0.9583\n",
            "Epoch 2/50\n",
            "12/12 [==============================] - 5s 428ms/step - loss: 0.1127 - accuracy: 0.9676 - val_loss: 0.0875 - val_accuracy: 0.9375\n",
            "Epoch 3/50\n",
            "12/12 [==============================] - 5s 444ms/step - loss: 0.0399 - accuracy: 0.9907 - val_loss: 0.0408 - val_accuracy: 0.9792\n",
            "Epoch 4/50\n",
            "12/12 [==============================] - 5s 450ms/step - loss: 0.0153 - accuracy: 0.9954 - val_loss: 0.0563 - val_accuracy: 0.9792\n",
            "Epoch 5/50\n",
            "12/12 [==============================] - 5s 446ms/step - loss: 0.0208 - accuracy: 0.9977 - val_loss: 0.0489 - val_accuracy: 0.9792\n",
            "Epoch 6/50\n",
            "12/12 [==============================] - 5s 433ms/step - loss: 0.0210 - accuracy: 0.9954 - val_loss: 0.0671 - val_accuracy: 0.9792\n",
            "Epoch 7/50\n",
            "12/12 [==============================] - 5s 450ms/step - loss: 0.0060 - accuracy: 1.0000 - val_loss: 0.0550 - val_accuracy: 0.9792\n",
            "Epoch 8/50\n",
            "12/12 [==============================] - 5s 429ms/step - loss: 0.0089 - accuracy: 1.0000 - val_loss: 0.0407 - val_accuracy: 0.9792\n",
            "Epoch 9/50\n",
            "12/12 [==============================] - 5s 441ms/step - loss: 0.0021 - accuracy: 1.0000 - val_loss: 0.0294 - val_accuracy: 0.9792\n",
            "Epoch 10/50\n",
            "12/12 [==============================] - 5s 438ms/step - loss: 8.0148e-04 - accuracy: 1.0000 - val_loss: 0.0303 - val_accuracy: 0.9792\n",
            "Epoch 11/50\n",
            "12/12 [==============================] - 5s 432ms/step - loss: 9.6930e-04 - accuracy: 1.0000 - val_loss: 0.0326 - val_accuracy: 0.9792\n",
            "Epoch 12/50\n",
            "12/12 [==============================] - 5s 432ms/step - loss: 6.9430e-04 - accuracy: 1.0000 - val_loss: 0.0344 - val_accuracy: 0.9792\n",
            "Epoch 13/50\n",
            "12/12 [==============================] - 5s 441ms/step - loss: 9.3125e-04 - accuracy: 1.0000 - val_loss: 0.0441 - val_accuracy: 0.9792\n",
            "Epoch 14/50\n",
            "12/12 [==============================] - 5s 432ms/step - loss: 0.0014 - accuracy: 1.0000 - val_loss: 0.0299 - val_accuracy: 0.9792\n",
            "Epoch 15/50\n",
            "12/12 [==============================] - 5s 432ms/step - loss: 7.6514e-04 - accuracy: 1.0000 - val_loss: 0.0273 - val_accuracy: 1.0000\n",
            "Epoch 16/50\n",
            "12/12 [==============================] - 5s 440ms/step - loss: 2.8825e-04 - accuracy: 1.0000 - val_loss: 0.0314 - val_accuracy: 0.9792\n",
            "Epoch 17/50\n",
            "12/12 [==============================] - 5s 446ms/step - loss: 1.8697e-04 - accuracy: 1.0000 - val_loss: 0.0350 - val_accuracy: 0.9792\n",
            "Epoch 18/50\n",
            "12/12 [==============================] - 5s 438ms/step - loss: 1.8712e-04 - accuracy: 1.0000 - val_loss: 0.0320 - val_accuracy: 0.9792\n",
            "Epoch 19/50\n",
            "12/12 [==============================] - 5s 434ms/step - loss: 1.3618e-04 - accuracy: 1.0000 - val_loss: 0.0324 - val_accuracy: 0.9792\n",
            "Epoch 20/50\n",
            "12/12 [==============================] - 5s 428ms/step - loss: 1.1721e-04 - accuracy: 1.0000 - val_loss: 0.0335 - val_accuracy: 0.9792\n",
            "Epoch 21/50\n",
            "12/12 [==============================] - 5s 439ms/step - loss: 1.0011e-04 - accuracy: 1.0000 - val_loss: 0.0322 - val_accuracy: 0.9792\n",
            "Epoch 22/50\n",
            "12/12 [==============================] - 6s 458ms/step - loss: 8.6430e-05 - accuracy: 1.0000 - val_loss: 0.0342 - val_accuracy: 0.9792\n",
            "Epoch 23/50\n",
            "12/12 [==============================] - 5s 431ms/step - loss: 7.3573e-05 - accuracy: 1.0000 - val_loss: 0.0335 - val_accuracy: 0.9792\n",
            "Epoch 24/50\n",
            "12/12 [==============================] - 5s 440ms/step - loss: 5.9634e-05 - accuracy: 1.0000 - val_loss: 0.0354 - val_accuracy: 0.9792\n",
            "Epoch 25/50\n",
            "12/12 [==============================] - 5s 433ms/step - loss: 5.1341e-05 - accuracy: 1.0000 - val_loss: 0.0350 - val_accuracy: 0.9792\n",
            "Epoch 26/50\n",
            "12/12 [==============================] - 6s 466ms/step - loss: 4.4413e-05 - accuracy: 1.0000 - val_loss: 0.0342 - val_accuracy: 0.9792\n",
            "Epoch 27/50\n",
            "12/12 [==============================] - 5s 427ms/step - loss: 4.0790e-05 - accuracy: 1.0000 - val_loss: 0.0322 - val_accuracy: 0.9792\n",
            "Epoch 28/50\n",
            "12/12 [==============================] - 5s 458ms/step - loss: 3.7566e-05 - accuracy: 1.0000 - val_loss: 0.0340 - val_accuracy: 0.9792\n",
            "Epoch 29/50\n",
            "12/12 [==============================] - 5s 446ms/step - loss: 3.0047e-05 - accuracy: 1.0000 - val_loss: 0.0320 - val_accuracy: 0.9792\n",
            "Epoch 30/50\n",
            "12/12 [==============================] - 5s 431ms/step - loss: 2.5159e-05 - accuracy: 1.0000 - val_loss: 0.0340 - val_accuracy: 0.9792\n",
            "Epoch 31/50\n",
            "12/12 [==============================] - 5s 441ms/step - loss: 2.2567e-05 - accuracy: 1.0000 - val_loss: 0.0296 - val_accuracy: 0.9792\n",
            "Epoch 32/50\n",
            "12/12 [==============================] - 5s 428ms/step - loss: 1.6465e-05 - accuracy: 1.0000 - val_loss: 0.0333 - val_accuracy: 0.9792\n",
            "Epoch 33/50\n",
            "12/12 [==============================] - 5s 425ms/step - loss: 2.0875e-05 - accuracy: 1.0000 - val_loss: 0.0285 - val_accuracy: 0.9792\n",
            "Epoch 34/50\n",
            "12/12 [==============================] - 5s 426ms/step - loss: 1.4663e-05 - accuracy: 1.0000 - val_loss: 0.0279 - val_accuracy: 0.9792\n",
            "Epoch 35/50\n",
            "12/12 [==============================] - 5s 424ms/step - loss: 1.0982e-05 - accuracy: 1.0000 - val_loss: 0.0262 - val_accuracy: 0.9792\n",
            "Epoch 36/50\n",
            "12/12 [==============================] - 5s 426ms/step - loss: 8.0816e-06 - accuracy: 1.0000 - val_loss: 0.0308 - val_accuracy: 0.9792\n",
            "Epoch 37/50\n",
            "12/12 [==============================] - 5s 424ms/step - loss: 9.8545e-06 - accuracy: 1.0000 - val_loss: 0.0164 - val_accuracy: 1.0000\n",
            "Epoch 38/50\n",
            "12/12 [==============================] - 5s 412ms/step - loss: 9.9208e-06 - accuracy: 1.0000 - val_loss: 0.0256 - val_accuracy: 0.9792\n",
            "Epoch 39/50\n",
            "12/12 [==============================] - 5s 409ms/step - loss: 1.0068e-05 - accuracy: 1.0000 - val_loss: 0.0245 - val_accuracy: 1.0000\n",
            "Epoch 40/50\n",
            "12/12 [==============================] - 5s 424ms/step - loss: 7.7359e-06 - accuracy: 1.0000 - val_loss: 0.0316 - val_accuracy: 0.9792\n",
            "Epoch 41/50\n",
            "12/12 [==============================] - 5s 423ms/step - loss: 6.6162e-06 - accuracy: 1.0000 - val_loss: 0.0233 - val_accuracy: 1.0000\n",
            "Epoch 42/50\n",
            "12/12 [==============================] - 5s 415ms/step - loss: 4.9010e-06 - accuracy: 1.0000 - val_loss: 0.0208 - val_accuracy: 1.0000\n",
            "Epoch 43/50\n",
            "12/12 [==============================] - 5s 413ms/step - loss: 4.1957e-06 - accuracy: 1.0000 - val_loss: 0.0206 - val_accuracy: 1.0000\n",
            "Epoch 44/50\n",
            "12/12 [==============================] - 5s 422ms/step - loss: 3.9292e-06 - accuracy: 1.0000 - val_loss: 0.0204 - val_accuracy: 1.0000\n",
            "Epoch 45/50\n",
            "12/12 [==============================] - 5s 400ms/step - loss: 3.4152e-06 - accuracy: 1.0000 - val_loss: 0.0167 - val_accuracy: 1.0000\n",
            "Epoch 46/50\n",
            "12/12 [==============================] - 5s 382ms/step - loss: 3.0134e-06 - accuracy: 1.0000 - val_loss: 0.0181 - val_accuracy: 1.0000\n",
            "Epoch 47/50\n",
            "12/12 [==============================] - 5s 382ms/step - loss: 2.7779e-06 - accuracy: 1.0000 - val_loss: 0.0153 - val_accuracy: 1.0000\n",
            "Epoch 48/50\n",
            "12/12 [==============================] - 5s 416ms/step - loss: 2.6178e-06 - accuracy: 1.0000 - val_loss: 0.0174 - val_accuracy: 1.0000\n",
            "Epoch 49/50\n",
            "12/12 [==============================] - 5s 405ms/step - loss: 2.5797e-06 - accuracy: 1.0000 - val_loss: 0.0149 - val_accuracy: 1.0000\n",
            "Epoch 50/50\n",
            "12/12 [==============================] - 5s 406ms/step - loss: 2.5159e-06 - accuracy: 1.0000 - val_loss: 0.0179 - val_accuracy: 1.0000\n"
          ],
          "name": "stdout"
        }
      ]
    },
    {
      "cell_type": "code",
      "metadata": {
        "id": "03c2d749",
        "outputId": "e1a0caf1-1e43-436a-c051-811f70269d2c"
      },
      "source": [
        "plt.plot(history.history['accuracy'])\n",
        "plt.plot(history.history['val_accuracy'])\n",
        "plt.title('model accuracy')\n",
        "plt.ylabel('accuracy')\n",
        "plt.xlabel('epoch')\n",
        "plt.legend(['train', 'test'], loc='upper left')\n",
        "plt.show()\n",
        "# summarize history for loss\n",
        "plt.plot(history.history['loss'])\n",
        "plt.plot(history.history['val_loss'])\n",
        "plt.title('model loss')\n",
        "plt.ylabel('loss')\n",
        "plt.xlabel('epoch')\n",
        "plt.legend(['train', 'test'], loc='upper left')\n",
        "plt.show()"
      ],
      "id": "03c2d749",
      "execution_count": null,
      "outputs": [
        {
          "output_type": "display_data",
          "data": {
            "image/png": "[encoded data removed]",
            "text/plain": [
              "<Figure size 432x288 with 1 Axes>"
            ]
          },
          "metadata": {
            "tags": [],
            "needs_background": "light"
          }
        },
        {
          "output_type": "display_data",
          "data": {
            "image/png": "[encoded data removed]",
            "text/plain": [
              "<Figure size 432x288 with 1 Axes>"
            ]
          },
          "metadata": {
            "tags": [],
            "needs_background": "light"
          }
        }
      ]
    },
    {
      "cell_type": "markdown",
      "metadata": {
        "id": "530aa80a"
      },
      "source": [
        "# Resultados"
      ],
      "id": "530aa80a"
    },
    {
      "cell_type": "code",
      "metadata": {
        "id": "c1116725",
        "outputId": "d223a90d-279d-406c-9185-fd4bc49cd0d2"
      },
      "source": [
        "lossValB, accValB = model.evaluate(testImagesB, testLabelsB)\n",
        "\n",
        "print(\"LossB: \", lossValB)\n",
        "print(\"AcuráciaB: \", accValB)"
      ],
      "id": "c1116725",
      "execution_count": null,
      "outputs": [
        {
          "output_type": "stream",
          "text": [
            "4/4 [==============================] - 1s 150ms/step - loss: 0.3021 - accuracy: 0.9667\n",
            "LossB:  0.30210116505622864\n",
            "AcuráciaB:  0.9666666388511658\n"
          ],
          "name": "stdout"
        }
      ]
    },
    {
      "cell_type": "code",
      "metadata": {
        "id": "31b3dae0"
      },
      "source": [
        "pred = model.predict(testImagesB)\n",
        "pred = np.argmax(pred,axis = 1) \n",
        "y_true = np.argmax(testLabelsB,axis = 1)"
      ],
      "id": "31b3dae0",
      "execution_count": null,
      "outputs": []
    },
    {
      "cell_type": "code",
      "metadata": {
        "id": "04e387b5"
      },
      "source": [
        "cm = confusion_matrix(y_true, pred)\n",
        "total = sum(sum(cm))\n",
        "acc = (cm[0, 0] + cm[1, 1]) / total\n",
        "sensitivity = cm[0, 0] / (cm[0, 0] + cm[0, 1])\n",
        "specificity = cm[1, 1] / (cm[1, 0] + cm[1, 1])\n",
        "\n",
        "print(\"Acurácia: {:.4f}\".format(acc))\n",
        "print(\"Sensitividade: {:.4f}\".format(sensitivity))\n",
        "print(\"Especificidade: {:.4f}\".format(specificity))\n",
        "\n",
        "from mlxtend.plotting import plot_confusion_matrix\n",
        "fig, ax = plot_confusion_matrix(conf_mat=cm ,  figsize=(5, 5), class_names = ['Normais', 'comRisco'])\n",
        "plt.show()"
      ],
      "id": "04e387b5",
      "execution_count": null,
      "outputs": []
    }
  ]
}